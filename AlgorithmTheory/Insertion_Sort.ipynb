{
 "cells": [
  {
   "cell_type": "markdown",
   "metadata": {},
   "source": [
    "## 대표적인 정렬2: 삽입 정렬 (insertion sort) "
   ]
  },
  {
   "cell_type": "markdown",
   "metadata": {},
   "source": [
    "### 1. 삽입 정렬 (insertion sort) 란?\n",
    "* 삽입 정렬은 두 번째 인덱스부터 시작\n",
    "* 해당 인덱스(key 값) 앞에 있는 데이터(B)부터 비교해서 key 값이 더 작으면, B값을 뒤 인덱스로 복사\n",
    "* 이를 key 값이 더 큰 데이터를 만날때까지 반복, 그리고 큰 데이터를 만난 위치 바로 뒤에 key 값을 이동\n",
    "\n",
    "#### https://visualgo.net/en/sorting\n",
    "\n",
    "<img src=\"https://upload.wikimedia.org/wikipedia/commons/9/9c/Insertion-sort-example.gif\" />\n",
    "\n",
    "> 출처: https://commons.wikimedia.org/wiki/File:Insertion-sort-example.gif"
   ]
  },
  {
   "cell_type": "markdown",
   "metadata": {},
   "source": [
    "* 데이터가 네 개 일때 (데이터 갯수에 따라 복잡도가 떨어지는 것은 아니므로, 네 개로 바로 로직을 이해해보자.)\n",
    "  - 예: data_list = [9, 3, 2, 5]\n",
    "    - 처음 한번 실행하면, key값은 9, 인덱스(0) - 1 은 0보다 작으므로 끝: [9, 3, 2, 5]\n",
    "    - 두 번째 실행하면, key값은 3, 9보다 3이 작으므로 자리 바꾸고, 끝: [3, 9, 2, 5]\n",
    "    - 세 번째 실행하면, key값은 2, 9보다 2가 작으므로 자리 바꾸고, 다시 3보다 2가 작으므로 끝: [2, 3, 9, 5]\n",
    "    - 네 번째 실행하면, key값은 5, 9보다 5이 작으므로 자리 바꾸고, 3보다는 5가 크므로 끝: [2, 3, 5, 9]        "
   ]
  },
  {
   "cell_type": "markdown",
   "metadata": {},
   "source": [
    "### 3. 알고리즘 구현\n",
    "1. for stand in range(len(data_list)) 로 반복\n",
    "2. key = data_list[stand]\n",
    "3. for num in range(stand, 0, -1) 반복\n",
    "   - 내부 반복문 안에서 data_list[stand] < data_list[num - 1] 이면, \n",
    "     - data_list[num - 1], data_list[num] = data_list[num], data_list[num - 1]   "
   ]
  },
  {
   "cell_type": "code",
   "execution_count": 57,
   "metadata": {
    "pycharm": {
     "is_executing": false
    }
   },
   "outputs": [
    {
     "name": "stdout",
     "text": [
      "stand! >  0\n",
      "stand! >  1\n",
      "1 [55, 2, 21, 14, 40, 67, 3, 5, 58, 98]\n",
      "stand! >  2\n",
      "2 [2, 55, 21, 14, 40, 67, 3, 5, 58, 98]\n",
      "1 [2, 21, 55, 14, 40, 67, 3, 5, 58, 98]\n",
      "stand! >  3\n",
      "3 [2, 21, 55, 14, 40, 67, 3, 5, 58, 98]\n",
      "2 [2, 21, 14, 55, 40, 67, 3, 5, 58, 98]\n",
      "1 [2, 14, 21, 55, 40, 67, 3, 5, 58, 98]\n",
      "stand! >  4\n",
      "4 [2, 14, 21, 55, 40, 67, 3, 5, 58, 98]\n",
      "3 [2, 14, 21, 40, 55, 67, 3, 5, 58, 98]\n",
      "stand! >  5\n",
      "5 [2, 14, 21, 40, 55, 67, 3, 5, 58, 98]\n",
      "stand! >  6\n",
      "6 [2, 14, 21, 40, 55, 67, 3, 5, 58, 98]\n",
      "5 [2, 14, 21, 40, 55, 3, 67, 5, 58, 98]\n",
      "4 [2, 14, 21, 40, 3, 55, 67, 5, 58, 98]\n",
      "3 [2, 14, 21, 3, 40, 55, 67, 5, 58, 98]\n",
      "2 [2, 14, 3, 21, 40, 55, 67, 5, 58, 98]\n",
      "1 [2, 3, 14, 21, 40, 55, 67, 5, 58, 98]\n",
      "stand! >  7\n",
      "7 [2, 3, 14, 21, 40, 55, 67, 5, 58, 98]\n",
      "6 [2, 3, 14, 21, 40, 55, 5, 67, 58, 98]\n",
      "5 [2, 3, 14, 21, 40, 5, 55, 67, 58, 98]\n",
      "4 [2, 3, 14, 21, 5, 40, 55, 67, 58, 98]\n",
      "3 [2, 3, 14, 5, 21, 40, 55, 67, 58, 98]\n",
      "2 [2, 3, 5, 14, 21, 40, 55, 67, 58, 98]\n",
      "stand! >  8\n",
      "8 [2, 3, 5, 14, 21, 40, 55, 67, 58, 98]\n",
      "7 [2, 3, 5, 14, 21, 40, 55, 58, 67, 98]\n",
      "stand! >  9\n",
      "9 [2, 3, 5, 14, 21, 40, 55, 58, 67, 98]\n",
      "[2, 3, 5, 14, 21, 40, 55, 58, 67, 98]\n"
     ],
     "output_type": "stream"
    }
   ],
   "source": [
    "def insertion_sort(data) :\n",
    "    for stand in range(len(data)) :\n",
    "        print(\"stand! > \", stand)\n",
    "        for idx in range(stand, 0, -1) :\n",
    "            print(idx, data)\n",
    "            if data[idx] < data[idx-1] :\n",
    "                data[idx], data[idx-1] = data[idx-1], data[idx]\n",
    "            else :\n",
    "                break\n",
    "    return data\n",
    "\n",
    "import random\n",
    "data_list = random.sample(range(100),10)\n",
    "print(insertion_sort(data_list))"
   ]
  },
  {
   "cell_type": "markdown",
   "metadata": {
    "pycharm": {
     "name": "#%% md\n"
    }
   },
   "source": [
    "### 4. 알고리즘 분석\n",
    "* 반복문이 두 개 O($n^2$)\n",
    "  - 최악의 경우, <font size=5em>$\\frac { n * (n - 1)}{ 2 }$</font>\n",
    "* 완전 정렬이 되어 있는 상태라면 최선은 O(n)"
   ]
  }
 ],
 "metadata": {
  "kernelspec": {
   "display_name": "Python 3",
   "language": "python",
   "name": "python3"
  },
  "language_info": {
   "codemirror_mode": {
    "name": "ipython",
    "version": 3
   },
   "file_extension": ".py",
   "mimetype": "text/x-python",
   "name": "python",
   "nbconvert_exporter": "python",
   "pygments_lexer": "ipython3",
   "version": "3.7.2"
  },
  "nbTranslate": {
   "displayLangs": [
    "*"
   ],
   "hotkey": "alt-t",
   "langInMainMenu": true,
   "sourceLang": "en",
   "targetLang": "fr",
   "useGoogleTranslate": true
  },
  "pycharm": {
   "stem_cell": {
    "cell_type": "raw",
    "source": [],
    "metadata": {
     "collapsed": false
    }
   }
  }
 },
 "nbformat": 4,
 "nbformat_minor": 1
}