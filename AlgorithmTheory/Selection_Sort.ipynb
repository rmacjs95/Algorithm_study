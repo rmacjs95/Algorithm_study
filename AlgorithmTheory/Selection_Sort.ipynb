{
 "cells": [
  {
   "cell_type": "markdown",
   "metadata": {},
   "source": [
    "## 대표적인 정렬3: 선택 정렬 (selection sort) "
   ]
  },
  {
   "cell_type": "markdown",
   "metadata": {},
   "source": [
    "### 1. 선택 정렬 (selection sort) 란?\n",
    "* 다음과 같은 순서를 반복하며 정렬하는 알고리즘\n",
    "  1. 주어진 데이터 중, 최소값을 찾음\n",
    "  2. 해당 최소값을 데이터 맨 앞에 위치한 값과 교체함\n",
    "  3. 맨 앞의 위치를 뺀 나머지 데이터를 동일한 방법으로 반복함\n",
    "\n",
    "#### https://visualgo.net/en/sorting\n",
    "\n",
    "<img src=\"https://upload.wikimedia.org/wikipedia/commons/9/94/Selection-Sort-Animation.gif\" width=100>\n",
    "\n",
    "출처: https://en.wikipedia.org/wiki/Selection_sort"
   ]
  },
  {
   "cell_type": "markdown",
   "metadata": {},
   "source": [
    "### 2. 어떻게 코드로 만들까?"
   ]
  },
  {
   "cell_type": "markdown",
   "metadata": {},
   "source": [
    "* 데이터가 두 개 일때\n",
    "  - 예: dataList = [9, 1]\n",
    "    - data_list[0] > data_list[1] 이므로 data_list[0] 값과 data_ list[1] 값을 교환\n",
    "* 데이터가 세 개 일때\n",
    "  - 예: data_list = [9, 1, 7]\n",
    "    - 처음 한번 실행하면, 1, 9, 7 이 됨\n",
    "    - 두 번째 실행하면, 1, 7, 9 가 됨\n",
    "* 데이터가 네 개 일때\n",
    "  - 예: data_list = [9, 3, 2, 1]\n",
    "    - 처음 한번 실행하면, 1, 3, 2, 9 가 됨\n",
    "    - 두 번째 실행하면, 1, 2, 3, 9 가 됨\n",
    "    - 세 번째 실행하면, 변화 없음"
   ]
  },
  {
   "cell_type": "markdown",
   "metadata": {},
   "source": [
    "### 3. 알고리즘 구현\n",
    "1. for stand in range(len(data_list) - 1) 로 반복\n",
    "2. lowest = stand 로 놓고,\n",
    "3. for num in range(stand, len(data_list)) stand 이후부터 반복\n",
    "   - 내부 반복문 안에서 data_list[lowest] > data_list[num] 이면, \n",
    "     - lowest = num\n",
    "4. data_list[num], data_list[lowest] = data_list[lowest], data_list[num]   "
   ]
  },
  {
   "cell_type": "code",
   "execution_count": 84,
   "metadata": {
    "pycharm": {
     "is_executing": false
    }
   },
   "outputs": [
    {
     "name": "stdout",
     "text": [
      "0 46 74 1\n",
      "1 14 11 2\n",
      "2 21 52 3\n",
      "3 35 79 5\n",
      "4 16 25 7\n",
      "5 6 82 9\n",
      "6 34 82 10\n",
      "7 14 92 11\n",
      "8 22 21 12\n",
      "9 20 91 16\n",
      "10 47 68 17\n",
      "11 48 60 18\n",
      "12 22 76 21\n",
      "13 13 23 23\n",
      "14 37 92 24\n",
      "15 16 37 25\n",
      "16 31 37 30\n",
      "17 23 35 33\n",
      "18 23 94 35\n",
      "19 31 45 37\n",
      "20 45 91 38\n",
      "21 44 52 39\n",
      "22 28 76 41\n",
      "23 33 94 44\n",
      "24 31 78 45\n",
      "25 42 70 47\n",
      "26 49 85 48\n",
      "27 43 58 50\n",
      "28 44 76 52\n",
      "29 29 55 55\n",
      "30 43 95 58\n",
      "31 48 78 60\n",
      "32 38 81 61\n",
      "33 40 94 63\n",
      "34 47 82 68\n",
      "35 42 79 70\n",
      "36 46 96 74\n",
      "37 44 92 76\n",
      "38 48 81 78\n",
      "39 42 88 79\n",
      "40 48 94 81\n",
      "41 47 83 82\n",
      "42 47 88 83\n",
      "43 49 95 85\n",
      "44 47 92 88\n",
      "45 45 91 91\n",
      "46 47 96 92\n",
      "47 48 96 94\n",
      "48 49 96 95\n",
      "[1, 2, 3, 5, 7, 9, 10, 11, 12, 16, 17, 18, 21, 23, 24, 25, 30, 33, 35, 37, 38, 39, 41, 44, 45, 47, 48, 50, 52, 55, 58, 60, 61, 63, 68, 70, 74, 76, 78, 79, 81, 82, 83, 85, 88, 91, 92, 94, 95, 96]\n"
     ],
     "output_type": "stream"
    }
   ],
   "source": [
    "def selectionSort(data) :\n",
    "    for stand in range(len(data)-1):\n",
    "        lowest = stand\n",
    "        for idx in range(stand+1,len(data)) :\n",
    "            if data[lowest] > data[idx] :\n",
    "                lowest = idx\n",
    "        print(stand,lowest, data[stand], data[lowest])\n",
    "        data[stand], data[lowest] = data[lowest], data[stand]            \n",
    "    return data\n",
    "\n",
    "import random\n",
    "data_list = random.sample(range(100),50)\n",
    "print(selectionSort(data_list))"
   ]
  },
  {
   "cell_type": "markdown",
   "metadata": {
    "pycharm": {
     "name": "#%% md\n"
    }
   },
   "source": [
    "### 4. 알고리즘 분석\n",
    "* 반복문이 두 개 O($n^2$)\n",
    "  - 실제로 상세하게 계산하면, <font size=5em>$\\frac { n * (n - 1)}{ 2 }$</font>"
   ]
  }
 ],
 "metadata": {
  "kernelspec": {
   "display_name": "Python 3",
   "language": "python",
   "name": "python3"
  },
  "language_info": {
   "codemirror_mode": {
    "name": "ipython",
    "version": 3
   },
   "file_extension": ".py",
   "mimetype": "text/x-python",
   "name": "python",
   "nbconvert_exporter": "python",
   "pygments_lexer": "ipython3",
   "version": "3.7.2"
  },
  "nbTranslate": {
   "displayLangs": [
    "*"
   ],
   "hotkey": "alt-t",
   "langInMainMenu": true,
   "sourceLang": "en",
   "targetLang": "fr",
   "useGoogleTranslate": true
  },
  "pycharm": {
   "stem_cell": {
    "cell_type": "raw",
    "source": [],
    "metadata": {
     "collapsed": false
    }
   }
  }
 },
 "nbformat": 4,
 "nbformat_minor": 1
}