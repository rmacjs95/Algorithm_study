{
 "cells": [
  {
   "cell_type": "markdown",
   "metadata": {
    "collapsed": true,
    "pycharm": {
     "name": "#%% md\n"
    }
   },
   "source": [
    "#### 문제 설명\n",
    "스트리밍 사이트에서 장르 별로 가장 많이 재생된 노래를 두 개씩 모아 베스트 앨범을 출시하려 합니다. 노래는 고유 번호로 구분하며, 노래를 수록하는 기준은 다음과 같습니다.\n",
    "\n",
    "##### 속한 노래가 많이 재생된 장르를 먼저 수록합니다.\n",
    "장르 내에서 많이 재생된 노래를 먼저 수록합니다.\n",
    "장르 내에서 재생 횟수가 같은 노래 중에서는 고유 번호가 낮은 노래를 먼저 수록합니다.\n",
    "노래의 장르를 나타내는 문자열 배열 genres와 노래별 재생 횟수를 나타내는 정수 배열 plays가 주어질 때, 베스트 앨범에 들어갈 노래의 고유 번호를 순서대로 return 하도록 solution 함수를 완성하세요.\n",
    "\n",
    "#### 제한사항\n",
    "genres[i]는 고유번호가 i인 노래의 장르입니다.\n",
    "plays[i]는 고유번호가 i인 노래가 재생된 횟수입니다.\n",
    "genres와 plays의 길이는 같으며, 이는 1 이상 10,000 이하입니다.\n",
    "장르 종류는 100개 미만입니다.\n",
    "장르에 속한 곡이 하나라면, 하나의 곡만 선택합니다.\n",
    "모든 장르는 재생된 횟수가 다릅니다.\n",
    "입출력 예\n",
    "genres\tplays\treturn\n",
    "[classic, pop, classic, classic, pop]\t[500, 600, 150, 800, 2500]\t[4, 1, 3, 0]\n",
    "입출력 예 설명\n",
    "\n",
    "```\n",
    "    classic 장르는 1,450회 재생되었으며, classic 노래는 다음과 같습니다.\n",
    "    고유 번호 3: 800회 재생\n",
    "    고유 번호 0: 500회 재생\n",
    "    고유 번호 2: 150회 재생\n",
    "    pop 장르는 3,100회 재생되었으며, pop 노래는 다음과 같습니다.\n",
    "    고유 번호 4: 2,500회 재생\n",
    "    고유 번호 1: 600회 재생\n",
    "    따라서 pop 장르의 [4, 1]번 노래를 먼저, classic 장르의 [3, 0]번 노래를 그다음에 수록합니다.\n",
    "```"
   ]
  },
  {
   "cell_type": "code",
   "execution_count": 19,
   "outputs": [
    {
     "name": "stdout",
     "text": [
      "{'classic': [(500, 0), (150, 2), (800, 3)], 'pop': [(2500, 4), (600, 1)]}\n",
      "{'classic': [(800, 3), (500, 0), (150, 2)], 'pop': [(2500, 4), (600, 1)]}\n",
      "[4, 1, 3, 0]\n",
      "End\n"
     ],
     "output_type": "stream"
    }
   ],
   "source": [
    "def solution(genres, plays):\n",
    "    answer = []\n",
    "    # { 장르 : 총 재생 횟수 } 사전\n",
    "    playsDict = {}\n",
    "    # { 장르 : [ ( 플레이 횟수, 고유 번호 ) ] }\n",
    "    d = { }\n",
    "\n",
    "    # 사전들 초기화\n",
    "    for i in range(len(genres)):\n",
    "        genre = genres[i]\n",
    "        play = plays[i]\n",
    "        # dict.get 함수를 통해 nvl\n",
    "        playsDict[genre] = playsDict.get(genre, 0) + play\n",
    "        d[genre] = d.get(genre, []) + [ (play, i) ]\n",
    "        \n",
    "    # 재생 횟수 내림차순으로 장르별로 정렬\n",
    "    genreSort = sorted(playsDict.items(), key=lambda x: x[1], reverse=True)\n",
    "\n",
    "    # 재생 횟수 내림차순, 인덱스 오름차순 정렬\n",
    "    # 장르별로 최대 2개 선택\n",
    "    for (genre, totalPlay) in genreSort:\n",
    "        d[genre] = sorted(d[genre], key=lambda x: (-x[0], x[1]))\n",
    "        print(d)\n",
    "        answer += [ idx for (play, idx) in d[genre][:2] ]\n",
    "    \n",
    "    return answer\n",
    "\n",
    "genres = ['classic', 'pop', 'classic', 'classic', 'pop']\n",
    "plays = [500,600,150,800,2500]\n",
    "\n",
    "print(solution(genres,plays))\n",
    "\n",
    "print('End')\n",
    "\n"
   ],
   "metadata": {
    "collapsed": false,
    "pycharm": {
     "name": "#%% \n",
     "is_executing": false
    }
   }
  }
 ],
 "metadata": {
  "kernelspec": {
   "name": "python37364bitbasecondab9accc1abbf74db289c5456028ea5aab",
   "language": "python",
   "display_name": "Python 3.7.3 64-bit ('base': conda)"
  },
  "language_info": {
   "codemirror_mode": {
    "name": "ipython",
    "version": 2
   },
   "file_extension": ".py",
   "mimetype": "text/x-python",
   "name": "python",
   "nbconvert_exporter": "python",
   "pygments_lexer": "ipython2",
   "version": "2.7.6"
  },
  "pycharm": {
   "stem_cell": {
    "cell_type": "raw",
    "source": [],
    "metadata": {
     "collapsed": false
    }
   }
  }
 },
 "nbformat": 4,
 "nbformat_minor": 0
}