{
 "cells": [
  {
   "cell_type": "markdown",
   "source": [
    "# 음계 문제\n",
    "#### 다장조는 c d e f g a b C, 총 8개 음으로 이루어져있다. 이 문제에서 8개 음은 다음과 같이 숫자로 바꾸어 표현한다\n",
    "#### c는 1로, d는 2로, ..., C를 8로 바꾼다.\n",
    "#### 1부터 8까지 차례대로 연주한다면 ascending, 8부터 1까지 차례대로 연주한다면 descending, 둘 다 아니라면 mixed 이다.\n",
    "#### 연주한 순서가 주어졌을 때, 이것이 ascending인지, descending인지, 아니면 mixed인지 판별하는 프로그램을 작성하시오.\n"
   ],
   "metadata": {
    "collapsed": false
   }
  },
  {
   "cell_type": "markdown",
   "source": [
    "# 제출 완료\n"
   ],
   "metadata": {
    "collapsed": false,
    "pycharm": {
     "name": "#%% md\n"
    }
   }
  },
  {
   "cell_type": "code",
   "execution_count": 19,
   "outputs": [
    {
     "name": "stdout",
     "text": [
      "ascending\n",
      "descending\n",
      "mixed\n",
      "mixed\n",
      "mixed\n",
      "mixed\n"
     ],
     "output_type": "stream"
    }
   ],
   "source": [
    "def solution(code_str) :\n",
    "    code_arr = code_str.split(' ')\n",
    "    return_str = ''\n",
    "    if int(code_arr[0]) == 1 :\n",
    "       idx = 1\n",
    "       for code in code_arr[1::] :\n",
    "           if int(code) == int(code_arr[idx-1])+1 :\n",
    "               return_str = 'ascending'\n",
    "           idx +=1\n",
    "    elif int(code_arr[0]) == 8 :\n",
    "        idx = 1\n",
    "        for code in code_arr[1::] :\n",
    "            if int(code) == int(code_arr[idx-1])-1 :\n",
    "                return_str = 'descending'\n",
    "            else :\n",
    "                return_str = 'mixed'\n",
    "                break\n",
    "            idx+=1\n",
    "    else :\n",
    "        return_str = 'mixed'\n",
    "    return return_str\n",
    "            \n",
    "    \n",
    "print(solution('1 2 3 4 5 6 7 8'))\n",
    "print(solution('8 7 6 5 4 3 2 1'))\n",
    "print(solution('8 1 7 2 6 3 5 4'))\n",
    "print(solution('3 1 7 2 6 3 5 4'))\n",
    "print(solution('8 7 6 5 4 3 2 10'))\n",
    "print(solution('8 1 7 2 6 3 5 4'))\n"
   ],
   "metadata": {
    "collapsed": false,
    "pycharm": {
     "name": "#%%\n",
     "is_executing": false
    }
   }
  }
 ],
 "metadata": {
  "kernelspec": {
   "display_name": "Python 3",
   "language": "python",
   "name": "python3"
  },
  "language_info": {
   "codemirror_mode": {
    "name": "ipython",
    "version": 2
   },
   "file_extension": ".py",
   "mimetype": "text/x-python",
   "name": "python",
   "nbconvert_exporter": "python",
   "pygments_lexer": "ipython2",
   "version": "2.7.6"
  },
  "pycharm": {
   "stem_cell": {
    "cell_type": "raw",
    "source": [],
    "metadata": {
     "collapsed": false
    }
   }
  }
 },
 "nbformat": 4,
 "nbformat_minor": 0
}