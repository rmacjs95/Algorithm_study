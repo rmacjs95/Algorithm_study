{
 "cells": [
  {
   "cell_type": "markdown",
   "metadata": {
    "collapsed": true,
    "pycharm": {
     "name": "#%% md\n"
    }
   },
   "source": [
    "Linked List 구현\n",
    "\n",
    "Node (value, next_node) class 구현"
   ]
  },
  {
   "cell_type": "code",
   "execution_count": 41,
   "outputs": [],
   "source": [
    "class Node :\n",
    "    def __init__(self, node, next=None):\n",
    "        # value 및 연결되는 Node 의 객체를 가지는 Class \n",
    "        self.data = node\n",
    "        self.next = next\n",
    "        \n",
    "class listManagement :\n",
    "    \n",
    "    def __init__(self, data):\n",
    "        self.head = Node(data)\n",
    "        \n",
    "    def getHead(self):\n",
    "        if not self.head :\n",
    "            raise Exception\n",
    "        return self.head\n",
    "    \n",
    "    # LinkedList add\n",
    "    def add (self,data) :\n",
    "        if self.head : # head가 없는 경우를 대비\n",
    "            pass\n",
    "        node = self.head\n",
    "        while node.next : # node의 next, 즉 연결되는 Node 객체가 None 될 때까지 while\n",
    "            node = node.next\n",
    "        node.next = Node(data) # 마지막 node next에 add하는 새로운 Node 객체를 입력\n",
    "    \n",
    "    # LinkedList 전체 출\n",
    "    def allData(self):\n",
    "        search = True\n",
    "        node = self.getHead()\n",
    "        while search :\n",
    "            print(node.data, node.next)\n",
    "            if node.next :  # node next가 있을 때, 출력 후 다음 Node로 초기화하여 while문이 돌아오도록 함\n",
    "                node = node.next\n",
    "            else :\n",
    "                search = False\n",
    "    \n",
    "    # LinkedList get index { return 'data', 'next' }\n",
    "    def get(self,index=0):\n",
    "        node = self.getHead()\n",
    "        for idx in range(index) :\n",
    "            if node.next :\n",
    "                node = node.next\n",
    "            else :\n",
    "                return None\n",
    "        return {'data' : node.data, 'next' : node.next}\n",
    "    \n",
    "    # LinkedList get value search { return Node() }\n",
    "    def getValue(self,data):\n",
    "        node = self.getHead()\n",
    "        search = True\n",
    "        while search :\n",
    "            if node.data == data :\n",
    "                search = False\n",
    "            else :\n",
    "                if node.next :\n",
    "                    node = node.next\n",
    "        return node\n",
    "    \n",
    "    def remove(self,data):\n",
    "        if not self.head :\n",
    "            print('Node data None!')\n",
    "            return\n",
    "        if self.head.data == data :\n",
    "            temp = self.head\n",
    "            self.head = self.head.next\n",
    "            del temp\n",
    "            return\n",
    "        else :\n",
    "            node = self.head\n",
    "            while node.next :\n",
    "                if node.next.data == data :\n",
    "                    temp = node.next\n",
    "                    node.next = node.next.next\n",
    "                    del temp\n",
    "                    return\n",
    "                else :\n",
    "                    node = node.next"
   ],
   "metadata": {
    "collapsed": false,
    "pycharm": {
     "name": "#%%\n",
     "is_executing": false
    }
   }
  },
  {
   "cell_type": "markdown",
   "source": [
    "데이터 확인하기"
   ],
   "metadata": {
    "collapsed": false,
    "pycharm": {
     "name": "#%% md\n",
     "is_executing": false
    }
   }
  },
  {
   "cell_type": "code",
   "execution_count": 42,
   "outputs": [
    {
     "name": "stdout",
     "text": [
      "1 <__main__.Node object at 0x112445d30>\n",
      "2 <__main__.Node object at 0x1124452e8>\n",
      "3 <__main__.Node object at 0x112445080>\n",
      "4 <__main__.Node object at 0x112445ef0>\n",
      "5 None\n"
     ],
     "output_type": "stream"
    }
   ],
   "source": [
    "lm = listManagement(1)\n",
    "lm.add(2)\n",
    "lm.add(3)\n",
    "lm.add(4)\n",
    "lm.add(5)\n",
    "lm.allData()"
   ],
   "metadata": {
    "collapsed": false,
    "pycharm": {
     "name": "#%%\n",
     "is_executing": false
    }
   }
  },
  {
   "cell_type": "markdown",
   "source": [
    "데이터 search 함수"
   ],
   "metadata": {
    "collapsed": false,
    "pycharm": {
     "name": "#%% md\n"
    }
   }
  },
  {
   "cell_type": "code",
   "execution_count": 43,
   "outputs": [
    {
     "name": "stdout",
     "text": [
      "{'data': 2, 'next': <__main__.Node object at 0x1124452e8>}\n",
      "{'data': 4, 'next': <__main__.Node object at 0x112445ef0>}\n",
      "2 <__main__.Node object at 0x1124452e8>\n"
     ],
     "output_type": "stream"
    }
   ],
   "source": [
    "print(lm.get(1))\n",
    "print(lm.get(3))\n",
    "\n",
    "print(lm.getValue(2).data, lm.getValue(2).next)"
   ],
   "metadata": {
    "collapsed": false,
    "pycharm": {
     "name": "#%%\n",
     "is_executing": false
    }
   }
  },
  {
   "cell_type": "markdown",
   "source": [
    "데이터 삭제"
   ],
   "metadata": {
    "collapsed": false,
    "pycharm": {
     "name": "#%% md\n"
    }
   }
  },
  {
   "cell_type": "code",
   "execution_count": 44,
   "outputs": [
    {
     "name": "stdout",
     "text": [
      "3 <__main__.Node object at 0x112445080>\n",
      "4 <__main__.Node object at 0x112445ef0>\n",
      "5 None\n"
     ],
     "output_type": "stream"
    }
   ],
   "source": [
    "lm.remove(1)\n",
    "lm.remove(2)\n",
    "lm.allData()"
   ],
   "metadata": {
    "collapsed": false,
    "pycharm": {
     "name": "#%%\n",
     "is_executing": false
    }
   }
  }
 ],
 "metadata": {
  "kernelspec": {
   "name": "python37364bitbasecondab9accc1abbf74db289c5456028ea5aab",
   "language": "python",
   "display_name": "Python 3.7.3 64-bit ('base': conda)"
  },
  "language_info": {
   "codemirror_mode": {
    "name": "ipython",
    "version": 2
   },
   "file_extension": ".py",
   "mimetype": "text/x-python",
   "name": "python",
   "nbconvert_exporter": "python",
   "pygments_lexer": "ipython2",
   "version": "2.7.6"
  },
  "pycharm": {
   "stem_cell": {
    "cell_type": "raw",
    "source": [],
    "metadata": {
     "collapsed": false
    }
   }
  }
 },
 "nbformat": 4,
 "nbformat_minor": 0
}