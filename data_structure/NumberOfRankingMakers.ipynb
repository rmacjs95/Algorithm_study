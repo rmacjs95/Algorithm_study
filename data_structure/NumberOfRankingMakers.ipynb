{
 "cells": [
  {
   "cell_type": "code",
   "execution_count": null,
   "metadata": {
    "collapsed": true
   },
   "outputs": [],
   "source": [
    "def solution(n, results):\n",
    "    answer = 0\n",
    "    winner = {}\n",
    "    loser = {}\n",
    "    for i in range(1, n+1) :\n",
    "        winner[i] = set()\n",
    "        loser[i] = set()\n",
    "    results.sort()\n",
    "    for i in range(1, n+1) :\n",
    "        for result in results :\n",
    "            if result[0] == i :\n",
    "                winner[i].add(result[1])\n",
    "            if result[1] == i :\n",
    "                loser[i].add(result[0])\n",
    "        for j in winner[i] :\n",
    "            loser[j].update(loser[i])\n",
    "        for j in loser[i] :\n",
    "            winner[j].update(winner[i])\n",
    "    for i in range(1, n+1) :\n",
    "        if (len(winner[i])+len(loser[i])) == n-1 :\n",
    "            answer += 1\n",
    "    return answer\n"
   ]
  }
 ],
 "metadata": {
  "kernelspec": {
   "display_name": "Python 2",
   "language": "python",
   "name": "python2"
  },
  "language_info": {
   "codemirror_mode": {
    "name": "ipython",
    "version": 2
   },
   "file_extension": ".py",
   "mimetype": "text/x-python",
   "name": "python",
   "nbconvert_exporter": "python",
   "pygments_lexer": "ipython2",
   "version": "2.7.6"
  },
  "pycharm": {
   "stem_cell": {
    "cell_type": "raw",
    "source": [],
    "metadata": {
     "collapsed": false
    }
   }
  }
 },
 "nbformat": 4,
 "nbformat_minor": 0
}