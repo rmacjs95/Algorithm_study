{
 "cells": [
  {
   "cell_type": "markdown",
   "source": [
    "## 대표적인 데이터 구조 : 트리\n",
    "\n",
    "### 1. 트리 (Tree) 구조\n",
    "- 트리: Node와 Branch를 이용해서, 사이클을 이루지 않도록 구성한 데이터 구조\n",
    "- 실제로 어디에 많이 사용되나?\n",
    "    - 트리 중 이진 트리 (Binary Tree) 형태의 구조로, 탐색(검색) 알고리즘 구현을 위해 많이 사용됨\n",
    "   \n",
    "### 2. 알아둘 용어\n",
    " - Node: 트리에서 데이터를 저장하는 기본 요소 (데이터와 다른 연결된 노드에 대한 Branch 정보 포함)\n",
    " - Root Node : 트리 맨 위에 있는 노드\n",
    " - Level : 최상위 노드를 Level 0으로 하였을 때, 하위 Branch로 연결된 노드의 깊이를 나타냄\n",
    " - Parent Node : 어떤 노드의 다음 레벨에 연결된 노드\n",
    " - Child node : 어떤 노드의 사우이 레벨에 연결된 노드\n",
    " - Leaf Node (Terminal Node) : Child Node가 하나도 없는 노드\n",
    " - Slbilng (Brother Node) : 동일한 Parent Node를 가진 노드\n",
    " - Depth : 트리에서 Node가 가질 수 있는 최대 Level\n",
    " \n",
    "### 3. 이진 트리와 이진 탐색 트리 (Binary Search Tree)\n",
    " - 이진 트리 : Node의 최대 Branch가 2인 트리\n",
    " - 이진 탐색 트리 (Binary Search Tree, BST) : 이진 트리에 다음과 같은 추가적인 조건이 있는 트리\n",
    "    - 왼쪽 노드는 해당 노드보다 작은 값, 오른쪽 노드는 해당 노드보다 큰 값을 가지고 있음.\n",
    "<img src=\"https://www.mathwarehouse.com/programming/images/binary-search-tree/binary-search-tree-insertion-animation.gif\" />\n",
    "\n",
    "(출처: https://www.mathwarehouse.com/programming/gifs/binary-search-tree.php#binary-search-tree-insertion-node)  \n",
    "\n",
    "### 4. 자료 구조 이진 탐색 트리의 장점과 주요 용도\n",
    " - 주요 옹도 : 데이터 검색 (탐색)\n",
    " - 장점 : 탐색 속도를 개선할 수 있음\n",
    " > 단점은 이진 탐색 트리 알고리즘 이해 후 볼 것\n",
    "\n",
    "### 이진트리와 정렬된 배열간의 탐색 비교\n",
    "<img src=\"https://www.mathwarehouse.com/programming/images/binary-search-tree/binary-search-tree-sorted-array-animation.gif\" />\n",
    "\n",
    "(출처: https://www.mathwarehouse.com/programming/gifs/binary-search-tree.php#binary-search-tree-insertion-node)\n",
    "\n",
    "### 링크드 리스트 구현\n",
    "\n",
    "#### Node Class"
   ],
   "metadata": {
    "collapsed": false,
    "pycharm": {
     "name": "#%% md\n"
    }
   }
  },
  {
   "cell_type": "code",
   "execution_count": 6,
   "outputs": [],
   "source": [
    "class Node :\n",
    "    def __init__(self, value, left=None, right=None):\n",
    "        self.value = value\n",
    "        self.left = left\n",
    "        self.right = right        "
   ],
   "metadata": {
    "collapsed": false,
    "pycharm": {
     "name": "#%%\n",
     "is_executing": false
    }
   }
  },
  {
   "cell_type": "markdown",
   "source": [
    "#### 이진 탐색 트리 데이터 넣기"
   ],
   "metadata": {
    "collapsed": false
   }
  },
  {
   "cell_type": "code",
   "execution_count": 7,
   "outputs": [],
   "source": [
    "class NodeManagement :\n",
    "    def __init__(self, head):\n",
    "        self.head = head\n",
    "    \n",
    "    def insert(self, value):\n",
    "        self.current_node = self.head\n",
    "        while True :\n",
    "            if value < self.current_node.value :\n",
    "                if self.current_node.left is not None :\n",
    "                    self.current_node = self.current_node.left\n",
    "                else :\n",
    "                    self.current_node.left = Node(value)\n",
    "                    break\n",
    "            else :\n",
    "                if self.current_node.right is not None :\n",
    "                    self.current_node = self.current_node.right\n",
    "                else :\n",
    "                    self.current_node.right = Node(value)\n",
    "                    break"
   ],
   "metadata": {
    "collapsed": false,
    "pycharm": {
     "name": "#%%\n",
     "is_executing": false
    }
   }
  },
  {
   "cell_type": "code",
   "execution_count": 8,
   "outputs": [],
   "source": [
    "head = Node(1)\n",
    "BST = NodeManagement(head)\n",
    "BST.insert(2)"
   ],
   "metadata": {
    "collapsed": false,
    "pycharm": {
     "name": "#%%\n",
     "is_executing": false
    }
   }
  },
  {
   "cell_type": "markdown",
   "source": [
    "#### 이진 탐색 트리 검색"
   ],
   "metadata": {
    "collapsed": false,
    "pycharm": {
     "name": "#%% md\n"
    }
   }
  },
  {
   "cell_type": "code",
   "execution_count": 13,
   "outputs": [],
   "source": [
    "class NodeManagement :\n",
    "    def __init__(self, head):\n",
    "        self.head = head\n",
    "    \n",
    "    def insert(self, value):\n",
    "        self.current_node = self.head\n",
    "        while True :\n",
    "            if value < self.current_node.value :\n",
    "                if self.current_node.left is not None :\n",
    "                    self.current_node = self.current_node.left\n",
    "                else :\n",
    "                    self.current_node.left = Node(value)\n",
    "                    break\n",
    "            else :\n",
    "                if self.current_node.right is not None :\n",
    "                    self.current_node = self.current_node.right\n",
    "                else :\n",
    "                    self.current_node.right = Node(value)\n",
    "                    break\n",
    "    \n",
    "    def search(self, value):\n",
    "        self.current_node = self.head\n",
    "        while self.current_node :\n",
    "            if self.current_node.value == value :\n",
    "                return True\n",
    "            elif value < self.current_node.value :\n",
    "                self.current_node = self.current_node.left\n",
    "            else :\n",
    "                self.current_node = self.current_node.right\n",
    "        return False"
   ],
   "metadata": {
    "collapsed": false,
    "pycharm": {
     "name": "#%%\n",
     "is_executing": false
    }
   }
  },
  {
   "cell_type": "code",
   "execution_count": 26,
   "outputs": [
    {
     "name": "stdout",
     "text": [
      "True\n",
      "True\n",
      "False\n"
     ],
     "output_type": "stream"
    }
   ],
   "source": [
    "head = Node(1)\n",
    "BST = NodeManagement(head)\n",
    "BST.insert(3)\n",
    "BST.insert(4)\n",
    "BST.insert(5)\n",
    "BST.insert(-1)\n",
    "\n",
    "print(BST.search(5))\n",
    "print(BST.search(-1))\n",
    "print(BST.search(-4))"
   ],
   "metadata": {
    "collapsed": false,
    "pycharm": {
     "name": "#%%\n",
     "is_executing": false
    }
   }
  },
  {
   "cell_type": "markdown",
   "source": [
    "#### 이진 탐색 트리 삭제\n",
    "1. 삭제할 Node의 오른쪽 자식 선택\n",
    "- 오른쪽 자식의 가장 왼쪽에 있는 Node를 선택\n",
    "- 해당 Node를 삭제할 Node의 Parent Node 왼쪽 Branch가 가리키게 함\n",
    "- 해당 Node의 왼쪽 Branch가 삭제할 Node의 왼쪽 Child Node를 가리키게 함\n",
    "- 해당 Node의 오른쪽 Branch가 삭제할 Node의 오른쪽 Child Node를 가리키게 함\n",
    "- 만약 해당 Node가 오른쪽 Child Node를 가지고 있었을 경우에는, 해당 Node의 본래 Parent Node의 왼쪽 Branch가 해당 오른쪽 Child Node를 가리키게 함"
   ],
   "metadata": {
    "collapsed": false,
    "pycharm": {
     "name": "#%% md\n"
    }
   }
  }
 ],
 "metadata": {
  "kernelspec": {
   "name": "python37364bitbasecondab9accc1abbf74db289c5456028ea5aab",
   "language": "python",
   "display_name": "Python 3.7.3 64-bit ('base': conda)"
  },
  "language_info": {
   "codemirror_mode": {
    "name": "ipython",
    "version": 2
   },
   "file_extension": ".py",
   "mimetype": "text/x-python",
   "name": "python",
   "nbconvert_exporter": "python",
   "pygments_lexer": "ipython2",
   "version": "2.7.6"
  },
  "pycharm": {
   "stem_cell": {
    "cell_type": "raw",
    "source": [],
    "metadata": {
     "collapsed": false
    }
   }
  }
 },
 "nbformat": 4,
 "nbformat_minor": 0
}