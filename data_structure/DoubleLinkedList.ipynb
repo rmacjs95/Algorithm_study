{
 "cells": [
  {
   "cell_type": "markdown",
   "metadata": {
    "collapsed": true,
    "pycharm": {
     "name": "#%% md\n"
    }
   },
   "source": [
    "# Double LinkedList 구현"
   ]
  },
  {
   "cell_type": "code",
   "execution_count": 96,
   "outputs": [],
   "source": [
    "class Node :\n",
    "    def __init__(self, data, prev=None, next=None):\n",
    "        self.data = data\n",
    "        self.prev = prev\n",
    "        self.next = next\n",
    "        \n",
    "class listManagement :\n",
    "    \n",
    "    def __init__(self, data):\n",
    "        self.head = Node(data)\n",
    "        self.tail = self.head\n",
    "    \n",
    "    def add (self, data) :\n",
    "        node = self.head\n",
    "        while node.next :\n",
    "            node = node.next\n",
    "        new_node = Node(data,node)\n",
    "        node.next = new_node\n",
    "        self.tail = new_node\n",
    "    \n",
    "    def log(self, node):\n",
    "        print('data >',node.data, 'node prev >',node.prev.data if node.prev is not None else node.prev, 'node next >',node.next.data if node.next is not None else node.next)\n",
    "        \n",
    "    def allData(self) :\n",
    "        node = self.head\n",
    "        while node.next :\n",
    "            self.log(node)\n",
    "            node = node.next\n",
    "        self.log(node)\n",
    "            \n",
    "    def remove(self,data) :\n",
    "        if self.head.data == data :\n",
    "            temp = self.head\n",
    "            self.head = temp.next\n",
    "            self.head.prev = None\n",
    "            del temp\n",
    "        else :\n",
    "            node = self.head\n",
    "            while node.next :\n",
    "                if node.next.data == data :\n",
    "                    temp = node.next\n",
    "                    node.next = node.next.next\n",
    "                    node.next.prev = node\n",
    "                    del temp\n",
    "                    return\n",
    "                else :\n",
    "                    node = node.next\n",
    "    \n",
    "    def add_from_head(self, data, add_data):\n",
    "        if not self.head :\n",
    "            self.head = Node(add_data)\n",
    "            return\n",
    "        tail_node = self.tail\n",
    "        if tail_node.data == data :\n",
    "            prev_node = tail_node.prev\n",
    "            new_node = Node(data, prev_node, tail_node)\n",
    "            prev_node.next = new_node \n",
    "            tail_node.prev = new_node\n",
    "            return\n",
    "        while tail_node.prev :\n",
    "            if tail_node.prev.data == data :\n",
    "                prev_node = tail_node.prev.prev\n",
    "                back_node = tail_node.prev\n",
    "                new_node = Node(add_data, prev_node, back_node)\n",
    "                prev_node.next, back_node.prev = new_node,new_node\n",
    "                break\n",
    "            else :\n",
    "                tail_node = tail_node.prev\n",
    "                \n",
    "    def add_from_tail(self,data, add_data):\n",
    "        if not self.head :\n",
    "            self.head = Node(add_data)\n",
    "            return\n",
    "        head_node = self.head\n",
    "        if head_node.data == data :\n",
    "            next_node = head_node.next\n",
    "            new_node = Node(add_data, head_node, next_node)\n",
    "            next_node.prev, head_node.next = new_node\n",
    "        else :\n",
    "            while head_node.next :\n",
    "                if head_node.next.data == data :\n",
    "                    next_node = head_node.next.next\n",
    "                    back_node = head_node.next\n",
    "                    new_node = Node(add_data, back_node, next_node)\n",
    "                    next_node.prev, back_node.next= new_node, new_node\n",
    "                    break\n",
    "                else :\n",
    "                    head_node = head_node.next"
   ],
   "metadata": {
    "collapsed": false,
    "pycharm": {
     "name": "#%%\n",
     "is_executing": false
    }
   }
  },
  {
   "cell_type": "markdown",
   "source": [
    "Double LinkedList 구현 확인"
   ],
   "metadata": {
    "collapsed": false,
    "pycharm": {
     "name": "#%% md\n"
    }
   }
  },
  {
   "cell_type": "code",
   "execution_count": 97,
   "outputs": [
    {
     "name": "stdout",
     "text": [
      "data > 0 node prev > None node next > 1\n",
      "data > 1 node prev > 0 node next > 2\n",
      "data > 2 node prev > 1 node next > 3\n",
      "data > 3 node prev > 2 node next > 4\n",
      "data > 4 node prev > 3 node next > 5\n",
      "data > 5 node prev > 4 node next > 6\n",
      "data > 6 node prev > 5 node next > 7\n",
      "data > 7 node prev > 6 node next > 8\n",
      "data > 8 node prev > 7 node next > 9\n",
      "data > 9 node prev > 8 node next > None\n"
     ],
     "output_type": "stream"
    }
   ],
   "source": [
    "lm = listManagement(0)\n",
    "for data in range(1,10) :\n",
    "    lm.add(data)\n",
    "lm.allData()"
   ],
   "metadata": {
    "collapsed": false,
    "pycharm": {
     "name": "#%%\n",
     "is_executing": false
    }
   }
  },
  {
   "cell_type": "markdown",
   "source": [
    "##### 위 코드에서 노드 데이터가 특정 숫자인 노드 앞에 데이터를 추가하는 함수를 만들고, 테스트해보기\n",
    "- Double LinkedList의 tail에서부터 뒤로 이동하며, 특정 숫자인 노드를 찾는 방식으로 함수 구현\n",
    "- 테스트: 임의로 0 ~ 9까지 데이터를 LinkedList에 넣고, 데이터 값이 2인 노드 앞에 1.5 데이터 값을 가진 노드 추가해보기"
   ],
   "metadata": {
    "collapsed": false,
    "pycharm": {
     "name": "#%% md\n"
    }
   }
  },
  {
   "cell_type": "code",
   "execution_count": 98,
   "outputs": [
    {
     "name": "stdout",
     "text": [
      "data > 0 node prev > None node next > 1\n",
      "data > 1 node prev > 0 node next > 2\n",
      "data > 2 node prev > 1 node next > 3\n",
      "data > 3 node prev > 2 node next > 4\n",
      "data > 4 node prev > 3 node next > 5\n",
      "data > 5 node prev > 4 node next > 6\n",
      "data > 6 node prev > 5 node next > 7\n",
      "data > 7 node prev > 6 node next > 8\n",
      "data > 8 node prev > 7 node next > 9\n",
      "data > 9 node prev > 8 node next > None\n",
      "\n",
      "data > 0 node prev > None node next > 1\n",
      "data > 1 node prev > 0 node next > 1.5\n",
      "data > 1.5 node prev > 1 node next > 2\n",
      "data > 2 node prev > 1.5 node next > 3\n",
      "data > 3 node prev > 2 node next > 4\n",
      "data > 4 node prev > 3 node next > 5\n",
      "data > 5 node prev > 4 node next > 6\n",
      "data > 6 node prev > 5 node next > 7\n",
      "data > 7 node prev > 6 node next > 8\n",
      "data > 8 node prev > 7 node next > 9\n",
      "data > 9 node prev > 8 node next > None\n"
     ],
     "output_type": "stream"
    }
   ],
   "source": [
    "lm2 = listManagement(0)\n",
    "for data in range(1,10) :\n",
    "    lm2.add(data)\n",
    "lm2.allData()\n",
    "print()\n",
    "lm2.add_from_head(2,1.5)\n",
    "lm2.allData()"
   ],
   "metadata": {
    "collapsed": false,
    "pycharm": {
     "name": "#%%\n",
     "is_executing": false
    }
   }
  },
  {
   "cell_type": "markdown",
   "source": [
    "##### 위 코드에서 노드 데이터가 특정 숫자인 노드 뒤에 데이터를 추가하는 함수를 만들고, 테스트해보기\n",
    "- Double LinkedList의 head 에서부터 다음으로 이동하며, 특정 숫자인 노드를 찾는 방식으로 함수를 구현하기\n",
    "- 테스트: 임의로 0 ~ 9까지의 데이터를 LinkedList에 넣고, 데이터 값이 1인 노드 다음에 1.7 데이터 값을 가진 노드를 추가하기"
   ],
   "metadata": {
    "collapsed": false
   }
  },
  {
   "cell_type": "code",
   "execution_count": 99,
   "outputs": [
    {
     "name": "stdout",
     "text": [
      "data > 0 node prev > None node next > 1\n",
      "data > 1 node prev > 0 node next > 2\n",
      "data > 2 node prev > 1 node next > 3\n",
      "data > 3 node prev > 2 node next > 4\n",
      "data > 4 node prev > 3 node next > 5\n",
      "data > 5 node prev > 4 node next > 6\n",
      "data > 6 node prev > 5 node next > 7\n",
      "data > 7 node prev > 6 node next > 8\n",
      "data > 8 node prev > 7 node next > 9\n",
      "data > 9 node prev > 8 node next > None\n",
      "\n",
      "data > 0 node prev > None node next > 1\n",
      "data > 1 node prev > 0 node next > 1.7\n",
      "data > 1.7 node prev > 1 node next > 2\n",
      "data > 2 node prev > 1.7 node next > 3\n",
      "data > 3 node prev > 2 node next > 4\n",
      "data > 4 node prev > 3 node next > 5\n",
      "data > 5 node prev > 4 node next > 6\n",
      "data > 6 node prev > 5 node next > 7\n",
      "data > 7 node prev > 6 node next > 8\n",
      "data > 8 node prev > 7 node next > 9\n",
      "data > 9 node prev > 8 node next > None\n"
     ],
     "output_type": "stream"
    }
   ],
   "source": [
    "lm3 = listManagement(0)\n",
    "for data in range(1,10) :\n",
    "    lm3.add(data)\n",
    "lm3.allData()\n",
    "print()\n",
    "\n",
    "lm3.add_from_tail(1,1.7)\n",
    "lm3.allData()"
   ],
   "metadata": {
    "collapsed": false,
    "pycharm": {
     "name": "#%%\n",
     "is_executing": false
    }
   }
  }
 ],
 "metadata": {
  "kernelspec": {
   "name": "python37364bitbasecondab9accc1abbf74db289c5456028ea5aab",
   "language": "python",
   "display_name": "Python 3.7.3 64-bit ('base': conda)"
  },
  "language_info": {
   "codemirror_mode": {
    "name": "ipython",
    "version": 2
   },
   "file_extension": ".py",
   "mimetype": "text/x-python",
   "name": "python",
   "nbconvert_exporter": "python",
   "pygments_lexer": "ipython2",
   "version": "2.7.6"
  },
  "pycharm": {
   "stem_cell": {
    "cell_type": "raw",
    "source": [],
    "metadata": {
     "collapsed": false
    }
   }
  }
 },
 "nbformat": 4,
 "nbformat_minor": 0
}