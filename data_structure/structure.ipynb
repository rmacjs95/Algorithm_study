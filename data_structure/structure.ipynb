{
 "cells": [
  {
   "cell_type": "markdown",
   "source": [
    "## Data structure"
   ],
   "metadata": {
    "collapsed": false,
    "pycharm": {
     "name": "#%% md\n"
    }
   }
  },
  {
   "cell_type": "markdown",
   "source": [
    "#### 1. 1차원 배열 구현"
   ],
   "metadata": {
    "collapsed": false,
    "pycharm": {
     "name": "#%% md\n"
    }
   }
  },
  {
   "cell_type": "code",
   "execution_count": 11,
   "outputs": [
    {
     "name": "stdout",
     "text": [
      "[1, 2, 3, 4]\n"
     ],
     "output_type": "stream"
    }
   ],
   "source": [
    "data = [1,2,3,4]\n",
    "print(data)"
   ],
   "metadata": {
    "collapsed": false,
    "pycharm": {
     "name": "#%%\n",
     "is_executing": false
    }
   }
  },
  {
   "cell_type": "markdown",
   "source": [
    "#### 2. 2차원 배열 구현"
   ],
   "metadata": {
    "collapsed": false,
    "pycharm": {
     "name": "#%% md\n"
    }
   }
  },
  {
   "cell_type": "code",
   "execution_count": 23,
   "outputs": [
    {
     "name": "stdout",
     "text": [
      "[[1, 2, 3], [4, 5, 6], [7, 8, 9]]\n",
      "1\n",
      "2\n",
      "4\n"
     ],
     "output_type": "stream"
    }
   ],
   "source": [
    "data = [[1,2,3], [4,5,6], [7,8,9]]\n",
    "# 전체 Data 조회\n",
    "print(data)\n",
    "\n",
    "# 일부 Data 조회\n",
    "print(data[0][0])\n",
    "print(data[0][1])\n",
    "print(data[1][0])"
   ],
   "metadata": {
    "collapsed": false,
    "pycharm": {
     "name": "#%%\n",
     "is_executing": false
    }
   }
  },
  {
   "cell_type": "markdown",
   "source": [
    "#### 3. 프로그래밍 연습\n",
    "##### 연습1: 위의 2차원 배열에서 9,8,7 순서로 출력해보기"
   ],
   "metadata": {
    "collapsed": false,
    "pycharm": {
     "name": "#%% md\n"
    }
   }
  },
  {
   "cell_type": "code",
   "execution_count": 28,
   "outputs": [
    {
     "name": "stdout",
     "text": [
      "9 8 7\n"
     ],
     "output_type": "stream"
    }
   ],
   "source": [
    "print(data[2][2], data[2][1], data[2][0])"
   ],
   "metadata": {
    "collapsed": false,
    "pycharm": {
     "name": "#%%\n",
     "is_executing": false
    }
   }
  },
  {
   "cell_type": "markdown",
   "source": [
    "##### 연습2: 다음 dataset 에서 전체 이름 안에 'M'이 몇번 나왔는지 빈도수 출력하기"
   ],
   "metadata": {
    "collapsed": false,
    "pycharm": {
     "name": "#%% md\n"
    }
   }
  },
  {
   "cell_type": "code",
   "execution_count": 17,
   "outputs": [
    {
     "name": "stdout",
     "text": [
      "4\n"
     ],
     "output_type": "stream"
    }
   ],
   "source": [
    "data = [\n",
    "    'W',\n",
    "    'WDA',\n",
    "    'DF',\n",
    "    'Ww'\n",
    "]\n",
    "m_count = 0\n",
    "for idx in range(len(data)) :\n",
    "    # count() 함수는 매개변수의 문자열을 카운트한다. 없을 경우 0 반환\n",
    "    # 대소문자를 구분하기에 upper() 함수를 통해 대문자 처리 후 비교\n",
    "    m_count += data[idx].upper().count('W')\n",
    "print(m_count)\n"
   ],
   "metadata": {
    "collapsed": false,
    "pycharm": {
     "name": "#%%\n",
     "is_executing": false
    }
   }
  }
 ],
 "metadata": {
  "kernelspec": {
   "name": "python3",
   "language": "python",
   "display_name": "Python 3"
  },
  "language_info": {
   "codemirror_mode": {
    "name": "ipython",
    "version": 2
   },
   "file_extension": ".py",
   "mimetype": "text/x-python",
   "name": "python",
   "nbconvert_exporter": "python",
   "pygments_lexer": "ipython2",
   "version": "2.7.6"
  },
  "pycharm": {
   "stem_cell": {
    "cell_type": "raw",
    "source": [],
    "metadata": {
     "collapsed": false
    }
   }
  }
 },
 "nbformat": 4,
 "nbformat_minor": 0
}