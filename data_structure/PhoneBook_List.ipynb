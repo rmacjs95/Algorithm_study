{
 "cells": [
  {
   "cell_type": "markdown",
   "metadata": {
    "collapsed": true,
    "pycharm": {
     "name": "#%% md\n"
    }
   },
   "source": [
    "#### 문제 설명\n",
    "전화번호부에 적힌 전화번호 중, 한 번호가 다른 번호의 접두어인 경우가 있는지 확인하려 합니다.\n",
    "전화번호가 다음과 같을 경우, 구조대 전화번호는 영석이의 전화번호의 접두사입니다.\n",
    "\n",
    "#### 구조대 : 119  박준영 : 97 674 223  지영석 : 11 9552 4421\n",
    "전화번호부에 적힌 전화번호를 담은 배열 phone_book 이 solution 함수의 매개변수로 주어질 때, 어떤 번호가 다른 번호의 접두어인 경우가 있으면 false를 그렇지 않으면 true를 return 하도록 solution 함수를 작성해주세요.\n",
    "\n",
    "제한 사항\n",
    "phone_book의 길이는 1 이상 1,000,000 이하입니다.\n",
    "각 전화번호의 길이는 1 이상 20 이하입니다.\n",
    "\n",
    "#### 입출력 예제\n",
    "    phone_book\treturn\n",
    "    [119, 97674223, 1195524421]\tfalse\n",
    "    [123,456,789]\ttrue\n",
    "    [12,123,1235,567,88]\tfalse\n",
    "\n",
    "#### 입출력 예 설명\n",
    "입출력 예 #1\n",
    "앞에서 설명한 예와 같습니다.\n",
    "\n",
    "입출력 예 #2\n",
    "한 번호가 다른 번호의 접두사인 경우가 없으므로, 답은 true입니다.\n",
    "\n",
    "입출력 예 #3\n",
    "첫 번째 전화번호, “12”가 두 번째 전화번호 “123”의 접두사입니다. 따라서 답은 false입니다."
   ]
  },
  {
   "cell_type": "code",
   "execution_count": 72,
   "outputs": [
    {
     "name": "stdout",
     "text": [
      "['119', '97674223', '1195524421'] False\n",
      "['123', '456', '789'] True\n",
      "['12', '123', '1235', '567', '88'] False\n"
     ],
     "output_type": "stream"
    }
   ],
   "source": [
    "def solution(phone_book):\n",
    "    for phone in range(len(phone_book)) :\n",
    "        for value in range(len(phone_book)) :\n",
    "            if phone_book[phone] != phone_book[value] \\\n",
    "                    and phone_book[value].startswith(phone_book[phone]): \n",
    "                return False\n",
    "    return True\n",
    "\n",
    "phone_book_array = [\n",
    "    ['119', '97674223', '1195524421'],\n",
    "    ['123','456','789'],\n",
    "    ['12','123','1235','567','88']\n",
    "]\n",
    "\n",
    "for phone_book in phone_book_array :\n",
    "    print(phone_book,solution(phone_book))"
   ],
   "metadata": {
    "collapsed": false,
    "pycharm": {
     "name": "#%%\n",
     "is_executing": false
    }
   }
  }
 ],
 "metadata": {
  "kernelspec": {
   "name": "python37364bitbasecondab9accc1abbf74db289c5456028ea5aab",
   "language": "python",
   "display_name": "Python 3.7.3 64-bit ('base': conda)"
  },
  "language_info": {
   "codemirror_mode": {
    "name": "ipython",
    "version": 2
   },
   "file_extension": ".py",
   "mimetype": "text/x-python",
   "name": "python",
   "nbconvert_exporter": "python",
   "pygments_lexer": "ipython2",
   "version": "2.7.6"
  },
  "pycharm": {
   "stem_cell": {
    "cell_type": "raw",
    "source": [],
    "metadata": {
     "collapsed": false
    }
   }
  }
 },
 "nbformat": 4,
 "nbformat_minor": 0
}