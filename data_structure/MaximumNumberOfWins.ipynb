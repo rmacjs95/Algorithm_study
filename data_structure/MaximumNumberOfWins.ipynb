{
 "cells": [
  {
   "cell_type": "code",
   "execution_count": null,
   "metadata": {
    "collapsed": true
   },
   "outputs": [],
   "source": [
    "def solution(A, B):\n",
    "    answer = 0\n",
    "    a_sort = sorted(A, reverse=True)\n",
    "    b_sort = sorted(B, reverse=True)\n",
    "    for a_idx in range(len(a_sort)) :\n",
    "        if a_sort[a_idx] < b_sort[len(b_sort)-1] :\n",
    "            answer += 1\n",
    "            del b_sort[len(b_sort) - 1]\n",
    "            continue\n",
    "        else :\n",
    "            for b_idx in range(len(b_sort)) :\n",
    "                if a_sort[a_idx] >= b_sort[b_idx] :\n",
    "                    del b_sort[len(b_sort)-1]\n",
    "                    break\n",
    "                else :\n",
    "                    if len(b_sort)-1 > b_idx :\n",
    "                        if a_sort[a_idx] < b_sort[b_idx+1]:\n",
    "                            answer += 1\n",
    "                            del b_sort[b_idx+1]\n",
    "                            break\n",
    "                        else :\n",
    "                            answer += 1\n",
    "                            del b_sort[b_idx]\n",
    "                            break\n",
    "                    else :\n",
    "                        answer += 1\n",
    "                        del b_sort[b_idx]\n",
    "                        break\n",
    "    return answer"
   ]
  }
 ],
 "metadata": {
  "kernelspec": {
   "display_name": "Python 2",
   "language": "python",
   "name": "python2"
  },
  "language_info": {
   "codemirror_mode": {
    "name": "ipython",
    "version": 2
   },
   "file_extension": ".py",
   "mimetype": "text/x-python",
   "name": "python",
   "nbconvert_exporter": "python",
   "pygments_lexer": "ipython2",
   "version": "2.7.6"
  },
  "pycharm": {
   "stem_cell": {
    "cell_type": "raw",
    "source": [],
    "metadata": {
     "collapsed": false
    }
   }
  }
 },
 "nbformat": 4,
 "nbformat_minor": 0
}