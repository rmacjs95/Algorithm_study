{
 "cells": [
  {
   "cell_type": "code",
   "execution_count": 95,
   "metadata": {
    "collapsed": true,
    "pycharm": {
     "is_executing": false
    }
   },
   "outputs": [
    {
     "name": "stdout",
     "text": [
      "4 7\n",
      "7 5\n",
      "7 9\n",
      "5 9\n",
      "9 6\n",
      "[0, 0, 2, 2, 4]\n"
     ],
     "output_type": "stream"
    }
   ],
   "source": [
    "def solution(h):\n",
    "    ans = [0] * len(h)\n",
    "    for i in range(len(h)-1, 0, -1):\n",
    "        for j in range(i-1, -1, -1):\n",
    "            print(h[i],h[j])\n",
    "            if h[i] < h[j]:\n",
    "                ans[i] = j+1\n",
    "                break\n",
    "    return ans\n",
    "\n",
    "input = [6,9,5,7,4]\n",
    "print(solution(input))"
   ]
  }
 ],
 "metadata": {
  "kernelspec": {
   "name": "python37364bitbasecondab9accc1abbf74db289c5456028ea5aab",
   "language": "python",
   "display_name": "Python 3.7.3 64-bit ('base': conda)"
  },
  "language_info": {
   "codemirror_mode": {
    "name": "ipython",
    "version": 2
   },
   "file_extension": ".py",
   "mimetype": "text/x-python",
   "name": "python",
   "nbconvert_exporter": "python",
   "pygments_lexer": "ipython2",
   "version": "2.7.6"
  },
  "pycharm": {
   "stem_cell": {
    "cell_type": "raw",
    "source": [],
    "metadata": {
     "collapsed": false
    }
   }
  }
 },
 "nbformat": 4,
 "nbformat_minor": 0
}